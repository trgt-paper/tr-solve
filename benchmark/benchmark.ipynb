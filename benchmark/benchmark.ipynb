{
 "cells": [
  {
   "cell_type": "markdown",
   "id": "0f7d7f2f-0cb6-494d-844a-1e3856b21ce1",
   "metadata": {},
   "source": [
    "# Benchmark tr-solve on a set of segmented sequences"
   ]
  },
  {
   "cell_type": "markdown",
   "id": "7e195a42-5a0e-4467-a336-f8fce7e97903",
   "metadata": {},
   "source": [
    "## Setup"
   ]
  },
  {
   "cell_type": "code",
   "execution_count": 1,
   "id": "8ff1be01-a196-4c18-b7db-365d29ae28f8",
   "metadata": {},
   "outputs": [],
   "source": [
    "import portion as P\n",
    "import itertools\n",
    "from pathlib import Path"
   ]
  },
  {
   "cell_type": "code",
   "execution_count": 2,
   "id": "81f1f1a9-d522-4490-ba26-71f95c0f6c53",
   "metadata": {},
   "outputs": [],
   "source": [
    "trsolve = \"/Users/edolzhenko/projects/2023/Q3/tr-solve/target/release/tr-solve\""
   ]
  },
  {
   "cell_type": "markdown",
   "id": "7b7f82cb-e4f6-4d69-95ad-90b6324832d7",
   "metadata": {},
   "source": [
    "## Segment sequences with tr-solve"
   ]
  },
  {
   "cell_type": "code",
   "execution_count": 3,
   "id": "82b046a8-b1d4-4227-917c-685b9624389d",
   "metadata": {},
   "outputs": [],
   "source": [
    "%%bash -s $trsolve\n",
    "\n",
    "trsolve=$1\n",
    "awk '{print $1, $2}' expected_segs.txt | $trsolve > observed_segs.txt"
   ]
  },
  {
   "cell_type": "markdown",
   "id": "92eb2ea3-7eb1-48f1-a43e-283667e5c2fa",
   "metadata": {},
   "source": [
    "## Load expected and observed segmentations"
   ]
  },
  {
   "cell_type": "code",
   "execution_count": 4,
   "id": "81265a3a-2f8f-43da-88b2-439e00e1fafb",
   "metadata": {},
   "outputs": [],
   "source": [
    "def merge_intervals(intervals):\n",
    "    union = P.empty()\n",
    "    for interval in intervals:\n",
    "        union = union | interval\n",
    "    return union\n",
    "\n",
    "\n",
    "def parse_segmentation(encoding):\n",
    "    if encoding == None:\n",
    "        return {}\n",
    "    labels = [rec.split(\"_\") for rec in encoding.split(\",\")]\n",
    "    labels = [(m, P.closedopen(int(s), int(e))) for m, s, e in labels]\n",
    "    labels.sort(key=lambda rec: rec[0])\n",
    "    segmentation = {}\n",
    "    for motif, group in itertools.groupby(labels, key=lambda rec:rec[0]):\n",
    "        span = merge_intervals([rec[1] for rec in group])\n",
    "        segmentation[motif] = span\n",
    "    return segmentation\n",
    "\n",
    "\n",
    "def parse_rec(line):\n",
    "    sl = line.split()\n",
    "    if len(sl) == 2:\n",
    "        return (sl[0], sl[1], None)\n",
    "    seq, motifs, seg = sl\n",
    "    motifs = motifs.split(\",\")\n",
    "\n",
    "    return seq, motifs, seg\n",
    "\n",
    "\n",
    "def load_recs(path):\n",
    "    recs = {}\n",
    "    with open(path, \"r\") as file:\n",
    "        for line in file:\n",
    "            seq, motifs, seg = parse_rec(line)\n",
    "            recs[seq] = seg\n",
    "    return recs\n"
   ]
  },
  {
   "cell_type": "code",
   "execution_count": 5,
   "id": "795d73b3-3d6c-4f56-9c27-431c47ea7e24",
   "metadata": {},
   "outputs": [],
   "source": [
    "expected_segs = load_recs(\"expected_segs.txt\")\n",
    "observed_segs = load_recs(\"observed_segs.txt\")"
   ]
  },
  {
   "cell_type": "markdown",
   "id": "997187ee-5b91-437a-9883-e99032a9e99c",
   "metadata": {},
   "source": [
    "## Compare segmentations"
   ]
  },
  {
   "cell_type": "code",
   "execution_count": 6,
   "id": "89102e7d-4328-43a8-9f7a-2d4d3d9990a0",
   "metadata": {},
   "outputs": [],
   "source": [
    "def get_len(intervals):\n",
    "    return sum(i.upper - i.lower for i in intervals)\n",
    "\n",
    "\n",
    "def compare_segs(seg_a, seg_b):\n",
    "    seg_a = parse_segmentation(seg_a)\n",
    "    seg_b = parse_segmentation(seg_b)\n",
    "    motifs = set(seg_a).union(set(seg_b))\n",
    "    intersect_lens = []\n",
    "    union_lens = []\n",
    "    \n",
    "    for motif in motifs:\n",
    "        spans_a = seg_a.get(motif, P.empty())\n",
    "        spans_b = seg_b.get(motif, P.empty())\n",
    "        intersect_lens.append(get_len(spans_a & spans_b))\n",
    "        union_lens.append(get_len(spans_a | spans_b))\n",
    "    return sum(intersect_lens) / sum(union_lens)"
   ]
  },
  {
   "cell_type": "code",
   "execution_count": null,
   "id": "65340fc6-42fa-406c-a9df-e8d0f16aa8cb",
   "metadata": {},
   "outputs": [],
   "source": []
  },
  {
   "cell_type": "code",
   "execution_count": 7,
   "id": "a223452b-8e32-414a-ad57-bec812f4235c",
   "metadata": {},
   "outputs": [
    {
     "name": "stdout",
     "output_type": "stream",
     "text": [
      "CAGCAGCAGCAGCAGAAAAAA CAG_0_15,A_15_21 CAG_0_15,A_15_21 1.0\n",
      "TCTATGCAACCAACTTTCTGTTAGTCATAGTACCCCAAGAAGAAGAAGAAGAAGAAGAAGAAGAAGAAGAAGAAGAAGAAGAAGAAGAAGAAGAATAGAAATGTGTTTAAGAATTCCTCAATAAG AGA_37_97 AGA_37_99 0.967741935483871\n",
      "TCTATGCAACCAACTTTCTGTTAGTCATAGTACCAGAAGAAGAAGAAGAAGAAGAAGAAGAAAGAAGAGGAAGAGGAAGAGGAAGAGGAAGAGAAGAGGAAGAGGAAGAGGAAGAGGAAGAGGAAGAGGAAGAGGAAGAGGAAGAGAAGAGAAGAAGAAGAAGAAGAAGAAGAAGAAGAAGAAGAAGAAGAAGAAGAAGAGAAGAAGAATAGAAATGTGTTTAAGAATTCCTCAATAAG AGA_34_63,GAAGAG_63_146,AGA_146_211 AGA_34_63,GAAGAG_63_146,AGA_146_213 0.9888268156424581\n",
      "TCTATGCAACCAACTTTCTGTGAAGAAGAAGAAGAAGAAGAAGAAGAAGGAGGAGGAGGAGGAGGAGGAGGAGGAGGAGGAGGAGGAGGAGGAGGAGGAGGAGGAGGAGGAGGAGGAGGAGGAGGAGGAGGAGGAGGAGAAGGAGAAGGAGAAGAAGAAGAAGAAGAAGAAGAAGAAGAAGAAGAAGAAGAAGAAGAAGAAGAAGAAGAAGAAGAAGAATAGAAATGTGTTTAAGAATTCCTCAATAAG AGA_20_47,AGG_47_149,AGA_149_221 AGA_23_47,AGG_47_149,AGA_149_223 0.9753694581280788\n"
     ]
    }
   ],
   "source": [
    "for seq, obs_seg in observed_segs.items():\n",
    "    exp_seg = expected_segs[seq]\n",
    "    jaccard = compare_segs(obs_seg, exp_seg)\n",
    "    print(seq, obs_seg, exp_seg, jaccard)"
   ]
  },
  {
   "cell_type": "code",
   "execution_count": null,
   "id": "9a42a4a9-916a-4362-8f5c-1f606307fe1c",
   "metadata": {},
   "outputs": [],
   "source": []
  },
  {
   "cell_type": "code",
   "execution_count": null,
   "id": "fd2a7952-8cea-4a6a-b361-5e473730db7f",
   "metadata": {},
   "outputs": [],
   "source": []
  }
 ],
 "metadata": {
  "kernelspec": {
   "display_name": "Python 3 (ipykernel)",
   "language": "python",
   "name": "python3"
  },
  "language_info": {
   "codemirror_mode": {
    "name": "ipython",
    "version": 3
   },
   "file_extension": ".py",
   "mimetype": "text/x-python",
   "name": "python",
   "nbconvert_exporter": "python",
   "pygments_lexer": "ipython3",
   "version": "3.10.12"
  }
 },
 "nbformat": 4,
 "nbformat_minor": 5
}
